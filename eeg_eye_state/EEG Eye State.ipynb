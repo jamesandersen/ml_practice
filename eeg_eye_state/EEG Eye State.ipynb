{
 "cells": [
  {
   "cell_type": "markdown",
   "metadata": {},
   "source": [
    "This notebook explores use of an RNN with the [EEG eye state dataset](https://archive.ics.uci.edu/ml/datasets/EEG+Eye+State).\n",
    "> All data is from one continuous EEG measurement with the Emotiv EEG Neuroheadset. The duration of the measurement was 117 seconds. The eye state was detected via a camera during the EEG measurement and added later manually to the file after analysing the video frames. '1' indicates the eye-closed and '0' the eye-open state. All values are in chronological order with the first measured value at the top of the data.\n",
    "\n",
    "As the data is provided in chronological order we can generate labeled sequences suitable for training an RNN.  We'll start by loading the data:"
   ]
  },
  {
   "cell_type": "code",
   "execution_count": 14,
   "metadata": {},
   "outputs": [
    {
     "name": "stdout",
     "output_type": "stream",
     "text": [
      "Input consists of 14980 samples with 14 dimensions.  Two samples follow:\n",
      "[[4329.23 4009.23 4289.23 4148.21 4350.26 4586.15 4096.92 4641.03 4222.05\n",
      "  4238.46 4211.28 4280.51 4635.9  4393.85]\n",
      " [4324.62 4004.62 4293.85 4148.72 4342.05 4586.67 4097.44 4638.97 4210.77\n",
      "  4226.67 4207.69 4279.49 4632.82 4384.1 ]]\n"
     ]
    }
   ],
   "source": [
    "import numpy as np\n",
    "\n",
    "# Load data file\n",
    "# There are 19 rows of \"header\" material in our data file\n",
    "rawdata = np.loadtxt('EEG_eye_state.txt', delimiter=',', skiprows=19, dtype=np.float32)\n",
    "\n",
    "# Separate into X inputs and y labels\n",
    "X_raw = rawdata[:,:-1]\n",
    "y_raw = rawdata[:,-1]\n",
    "print('Input consists of {} samples with {} dimensions.  Two samples follow:'.format(X_raw.shape[0], X_raw.shape[1]))\n",
    "print(X_raw[:2])"
   ]
  },
  {
   "cell_type": "markdown",
   "metadata": {},
   "source": [
    "Each sample consists of 14 features which are high value numbers which little change through the samples.   These changes are quite small objectively so, to accentuate the patterns present in the miniscule variations in the data we'll need to do some pre-processing so the variations become more pronounced and easier for our model to train on:"
   ]
  },
  {
   "cell_type": "code",
   "execution_count": 35,
   "metadata": {},
   "outputs": [
    {
     "name": "stdout",
     "output_type": "stream",
     "text": [
      "After scaling and normalizing the data:\n",
      "[[ 1.1147691   0.11111268  1.3003129   1.1493949   0.73356706 -2.137121\n",
      "   1.0397837   1.4219768   1.2220811   0.48629     0.5123863   0.18418221\n",
      "   1.2305937   1.2668048 ]\n",
      " [ 0.9673944  -0.03156257  1.5255711   1.1705632   0.20012219 -2.1021624\n",
      "   1.0600665   1.3162531   0.6110405  -0.13486315  0.3415985   0.13187335\n",
      "   1.1151031   0.9499366 ]]\n"
     ]
    }
   ],
   "source": [
    "from sklearn.preprocessing import normalize, scale, robust_scale\n",
    "\n",
    "# normalizing first, then scaling (not the reverse) has a significant effect in the ability for the model to train\n",
    "X_raw = normalize(X_raw, axis=0)\n",
    "# robust scales drastically improves training time\n",
    "X_raw = robust_scale(X_raw, axis=0) #scale(X_raw, axis=0)\n",
    "\n",
    "print('After scaling and normalizing the data:')\n",
    "print(X_raw[:2])"
   ]
  },
  {
   "cell_type": "markdown",
   "metadata": {},
   "source": [
    "Now that our data has been pre-processed we need to convert the chronological list of single EEG observations into samples that consist of **sequences** of EEG observations.   We'll choose a `window_size` which indicates the length of the EEG sequence we want in each sample.   We'll take the first `window_size` EEG observations and turn them into a sequence.  The label for this sequence will be the label that applies to the final  EEG observation in the sequence.  \n",
    "\n",
    "Our next sample will start with the 2nd EEG observation from the previous sample and add one new EEG observation.  The label for this next sample will be the label of the new EEG observation (last in the sequence) added for this sample.  We end up with `window_size` *fewer* samples because the first `window_size` - 1 observations are present in the first sample's sequence."
   ]
  },
  {
   "cell_type": "code",
   "execution_count": 36,
   "metadata": {},
   "outputs": [
    {
     "name": "stdout",
     "output_type": "stream",
     "text": [
      "(14970, 10, 14)\n"
     ]
    }
   ],
   "source": [
    "# transform from single labeled EEG reading in to labeled *sequences* of EEG readings\n",
    "def ordered_samples_to_sequence_samples(samples, labels, window_size):\n",
    "    seq_labels = labels[window_size:]\n",
    "    seq_samples = []\n",
    "    for sample_idx in range(window_size, len(samples)):\n",
    "        seq_samples.append(samples[sample_idx - window_size:sample_idx])\n",
    "            \n",
    "    return (np.array(seq_samples), np.array(seq_labels))\n",
    "       \n",
    "window_size = 10\n",
    "X, y = ordered_samples_to_sequence_samples(X_raw, y_raw, window_size)\n",
    "\n",
    "print(X.shape)\n"
   ]
  },
  {
   "cell_type": "markdown",
   "metadata": {},
   "source": [
    "Next we use the `train_test_split` function to divide into train and test datasets."
   ]
  },
  {
   "cell_type": "code",
   "execution_count": 37,
   "metadata": {},
   "outputs": [
    {
     "name": "stdout",
     "output_type": "stream",
     "text": [
      "(11227, 10, 14)\n"
     ]
    }
   ],
   "source": [
    "from sklearn.model_selection import train_test_split\n",
    "\n",
    "X_train, X_test, y_train, y_test = train_test_split(X, y, test_size=0.25, random_state=42)\n",
    "\n",
    "print(X_train.shape)\n"
   ]
  },
  {
   "cell_type": "code",
   "execution_count": 45,
   "metadata": {},
   "outputs": [
    {
     "name": "stdout",
     "output_type": "stream",
     "text": [
      "_________________________________________________________________\n",
      "Layer (type)                 Output Shape              Param #   \n",
      "=================================================================\n",
      "gru_6 (GRU)                  (None, 196)               124068    \n",
      "_________________________________________________________________\n",
      "dense_6 (Dense)              (None, 1)                 197       \n",
      "=================================================================\n",
      "Total params: 124,265\n",
      "Trainable params: 124,265\n",
      "Non-trainable params: 0\n",
      "_________________________________________________________________\n",
      "None\n"
     ]
    }
   ],
   "source": [
    "from keras.models import Sequential\n",
    "from keras.layers import GRU, Dense, Activation\n",
    "from keras import optimizers\n",
    "\n",
    "\n",
    "# create and fit the LSTM network\n",
    "model = Sequential()\n",
    "model.add(GRU(196, dropout=0.2, recurrent_dropout=0.2, input_shape=X_train.shape[1:])) # input shape is the 2nd and 3rd dim of data\n",
    "model.add(Dense(1, activation='sigmoid'))\n",
    "\n",
    "# try using different optimizers and different optimizer configs\n",
    "model.compile(loss='binary_crossentropy',\n",
    "              optimizer='adam', # optimizers.Adam(lr=0.003)\n",
    "              metrics=['accuracy'])\n",
    "print(model.summary())"
   ]
  },
  {
   "cell_type": "code",
   "execution_count": 47,
   "metadata": {},
   "outputs": [
    {
     "name": "stdout",
     "output_type": "stream",
     "text": [
      "Train on 8981 samples, validate on 2246 samples\n",
      "Epoch 1/50\n",
      "Epoch 00001: val_acc improved from -inf to 0.98397, saving model to rnn-weights.hdf5\n",
      " - 6s - loss: 0.1130 - acc: 0.9558 - val_loss: 0.0394 - val_acc: 0.9840\n",
      "Epoch 2/50\n",
      "Epoch 00002: val_acc improved from 0.98397 to 0.99065, saving model to rnn-weights.hdf5\n",
      " - 6s - loss: 0.0998 - acc: 0.9615 - val_loss: 0.0259 - val_acc: 0.9907\n",
      "Epoch 3/50\n",
      "Epoch 00003: val_acc improved from 0.99065 to 0.99288, saving model to rnn-weights.hdf5\n",
      " - 6s - loss: 0.1097 - acc: 0.9564 - val_loss: 0.0271 - val_acc: 0.9929\n",
      "Epoch 4/50\n",
      "Epoch 00004: val_acc did not improve\n",
      " - 6s - loss: 0.0933 - acc: 0.9621 - val_loss: 0.0264 - val_acc: 0.9929\n",
      "Epoch 5/50\n",
      "Epoch 00005: val_acc did not improve\n",
      " - 6s - loss: 0.0938 - acc: 0.9655 - val_loss: 0.0279 - val_acc: 0.9915\n",
      "Epoch 6/50\n",
      "Epoch 00006: val_acc improved from 0.99288 to 0.99377, saving model to rnn-weights.hdf5\n",
      " - 6s - loss: 0.0985 - acc: 0.9623 - val_loss: 0.0266 - val_acc: 0.9938\n",
      "Epoch 7/50\n",
      "Epoch 00007: val_acc did not improve\n",
      " - 6s - loss: 0.1069 - acc: 0.9594 - val_loss: 0.0317 - val_acc: 0.9911\n",
      "Epoch 8/50\n",
      "Epoch 00008: val_acc did not improve\n",
      " - 6s - loss: 0.0982 - acc: 0.9627 - val_loss: 0.0255 - val_acc: 0.9911\n",
      "Epoch 9/50\n",
      "Epoch 00009: val_acc did not improve\n",
      " - 6s - loss: 0.0941 - acc: 0.9630 - val_loss: 0.0356 - val_acc: 0.9893\n",
      "Epoch 10/50\n",
      "Epoch 00010: val_acc did not improve\n",
      " - 6s - loss: 0.0977 - acc: 0.9618 - val_loss: 0.0310 - val_acc: 0.9893\n",
      "Epoch 11/50\n",
      "Epoch 00011: val_acc did not improve\n",
      " - 6s - loss: 0.0925 - acc: 0.9640 - val_loss: 0.0266 - val_acc: 0.9911\n",
      "Epoch 00011: early stopping\n"
     ]
    }
   ],
   "source": [
    "from keras.callbacks import ModelCheckpoint, EarlyStopping\n",
    "from keras.models import load_model\n",
    "import os, datetime\n",
    "\n",
    "# checkpoint\n",
    "filepath=\"rnn-weights.hdf5\" # \"weights-{epoch:02d}-{val_acc:.2f}.hdf5\"\n",
    "checkpoint = ModelCheckpoint(filepath, monitor='val_acc', verbose=2, save_best_only=True, mode='max')\n",
    "\n",
    "# early stopping\n",
    "early_stop = EarlyStopping(monitor='val_acc', min_delta=0, patience=5, verbose=2, mode='auto')\n",
    "\n",
    "skip_training = False\n",
    "if os.path.isfile(filepath) and skip_training:\n",
    "    model = load_model(filepath)\n",
    "    print(\"Loaded model created at {}\".format(\n",
    "            datetime.datetime.fromtimestamp(os.path.getmtime(filepath)).strftime('%Y-%m-%d %H:%M:%S')))\n",
    "else:\n",
    "    # train the model\n",
    "    history = model.fit(X_train, \n",
    "                        y_train, \n",
    "                        validation_split=0.2, \n",
    "                        epochs=50, \n",
    "                        batch_size=32, \n",
    "                        verbose=2, \n",
    "                        callbacks=[checkpoint, early_stop])"
   ]
  },
  {
   "cell_type": "code",
   "execution_count": 49,
   "metadata": {},
   "outputs": [
    {
     "data": {
      "image/png": "[encoded data removed]",
      "text/plain": [
       "<matplotlib.figure.Figure at 0x7f01034d5ac8>"
      ]
     },
     "metadata": {},
     "output_type": "display_data"
    }
   ],
   "source": [
    "%matplotlib inline\n",
    "import plot_util as plots\n",
    "\n",
    "plots.plot_history(history)"
   ]
  },
  {
   "cell_type": "code",
   "execution_count": 50,
   "metadata": {},
   "outputs": [
    {
     "name": "stdout",
     "output_type": "stream",
     "text": [
      "3743/3743 [==============================] - 1s 216us/step\n",
      "Test score: 0.02903972286009435\n",
      "Test accuracy: 0.9893133849853059\n"
     ]
    }
   ],
   "source": [
    "score, acc = model.evaluate(X_test, y_test,\n",
    "                            batch_size=32)\n",
    "print('Test score:', score)\n",
    "print('Test accuracy:', acc)"
   ]
  },
  {
   "cell_type": "code",
   "execution_count": null,
   "metadata": {},
   "outputs": [],
   "source": [
    "TODO: setup callbacks - https://keras.io/callbacks/"
   ]
  }
 ],
 "metadata": {
  "kernelspec": {
   "display_name": "Python 3",
   "language": "python",
   "name": "python3"
  },
  "language_info": {
   "codemirror_mode": {
    "name": "ipython",
    "version": 3
   },
   "file_extension": ".py",
   "mimetype": "text/x-python",
   "name": "python",
   "nbconvert_exporter": "python",
   "pygments_lexer": "ipython3",
   "version": "3.6.3"
  }
 },
 "nbformat": 4,
 "nbformat_minor": 2
}
