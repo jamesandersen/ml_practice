{
 "cells": [
  {
   "cell_type": "markdown",
   "metadata": {},
   "source": [
    "This notebook explores use of an RNN with the [EEG eye state dataset](https://archive.ics.uci.edu/ml/datasets/EEG+Eye+State).\n",
    "> All data is from one continuous EEG measurement with the Emotiv EEG Neuroheadset. The duration of the measurement was 117 seconds. The eye state was detected via a camera during the EEG measurement and added later manually to the file after analysing the video frames. '1' indicates the eye-closed and '0' the eye-open state. All values are in chronological order with the first measured value at the top of the data.\n",
    "\n",
    "As the data is provided in chronological order we can generate labeled sequences suitable for training an RNN.  We'll start by loading the data:"
   ]
  },
  {
   "cell_type": "code",
   "execution_count": 1,
   "metadata": {},
   "outputs": [
    {
     "name": "stdout",
     "output_type": "stream",
     "text": [
      "Input consists of 14980 samples with 14 dimensions.  Two samples follow:\n",
      "[[4329.23 4009.23 4289.23 4148.21 4350.26 4586.15 4096.92 4641.03 4222.05\n",
      "  4238.46 4211.28 4280.51 4635.9  4393.85]\n",
      " [4324.62 4004.62 4293.85 4148.72 4342.05 4586.67 4097.44 4638.97 4210.77\n",
      "  4226.67 4207.69 4279.49 4632.82 4384.1 ]]\n"
     ]
    }
   ],
   "source": [
    "import numpy as np\n",
    "\n",
    "# Load data file\n",
    "# There are 19 rows of \"header\" material in our data file\n",
    "rawdata = np.loadtxt('EEG_eye_state.txt', delimiter=',', skiprows=19, dtype=np.float32)\n",
    "\n",
    "# Separate into X inputs and y labels\n",
    "X_raw = rawdata[:,:-1]\n",
    "y_raw = rawdata[:,-1]\n",
    "print('Input consists of {} samples with {} dimensions.  Two samples follow:'.format(X_raw.shape[0], X_raw.shape[1]))\n",
    "print(X_raw[:2])"
   ]
  },
  {
   "cell_type": "markdown",
   "metadata": {},
   "source": [
    "Each sample consists of 14 features which are high value numbers which little change through the samples.   These changes are quite small objectively so, to accentuate the patterns present in the miniscule variations in the data we'll need to do some pre-processing so the variations become more pronounced and easier for our model to train on:"
   ]
  },
  {
   "cell_type": "code",
   "execution_count": 2,
   "metadata": {},
   "outputs": [
    {
     "name": "stdout",
     "output_type": "stream",
     "text": [
      "After scaling and normalizing the data all features are in the range -1 to 1:\n",
      "[[ 0.00293431 -0.01170681  0.56740373 -0.00320852  0.24522723 -0.01978841\n",
      "  -0.00293001  0.85256433  0.00150876  0.18774603  0.2335118   0.0307404\n",
      "   0.01712686 -0.00383413]\n",
      " [ 0.0010844  -0.1120505   0.67139894 -0.00311072  0.00889115 -0.01961054\n",
      "  -0.00281697  0.78225505 -0.00377129 -0.12210524  0.13849996  0.00619956\n",
      "   0.01457776 -0.00548927]]\n"
     ]
    },
    {
     "name": "stderr",
     "output_type": "stream",
     "text": [
      "/opt/conda/lib/python3.6/site-packages/sklearn/preprocessing/data.py:164: UserWarning: Numerical issues were encountered when centering the data and might not be solved. Dataset may contain too large values. You may need to prescale your features.\n",
      "  warnings.warn(\"Numerical issues were encountered \"\n",
      "/opt/conda/lib/python3.6/site-packages/sklearn/preprocessing/data.py:181: UserWarning: Numerical issues were encountered when scaling the data and might not be solved. The standard deviation of the data is probably very close to 0. \n",
      "  warnings.warn(\"Numerical issues were encountered \"\n"
     ]
    }
   ],
   "source": [
    "from sklearn.preprocessing import normalize, scale\n",
    "\n",
    "# normalizing first, then scaling (not the reverse) has a significant effect in the ability for the model to converge\n",
    "X_raw = normalize(X_raw, axis=0)\n",
    "X_raw = scale(X_raw, axis=0)\n",
    "\n",
    "print('After scaling and normalizing the data all features are in the range -1 to 1:')\n",
    "print(X_raw[:2])"
   ]
  },
  {
   "cell_type": "markdown",
   "metadata": {},
   "source": [
    "Now that our data has been pre-processed we need to convert the chronological list of single EEG observations into samples that consist of **sequences** of EEG observations.   We'll choose a `window_size` which indicates the length of the EEG sequence we want in each sample.   We'll take the first `window_size` EEG observations and turn them into a sequence.  The label for this sequence will be the label that applies to the final  EEG observation in the sequence.  \n",
    "\n",
    "Our next sample will start with the 2nd EEG observation from the previous sample and add one new EEG observation.  The label for this next sample will be the label of the new EEG observation (last in the sequence) added for this sample.  We end up with `window_size` *fewer* samples because the first `window_size` - 1 observations are present in the first sample's sequence."
   ]
  },
  {
   "cell_type": "code",
   "execution_count": 3,
   "metadata": {},
   "outputs": [
    {
     "name": "stdout",
     "output_type": "stream",
     "text": [
      "(14970, 10, 14)\n"
     ]
    }
   ],
   "source": [
    "# transform from single labeled EEG reading in to labeled *sequences* of EEG readings\n",
    "def ordered_samples_to_sequence_samples(samples, labels, window_size):\n",
    "    seq_labels = labels[window_size:]\n",
    "    seq_samples = []\n",
    "    for sample_idx in range(window_size, len(samples)):\n",
    "        seq_samples.append(samples[sample_idx - window_size:sample_idx])\n",
    "            \n",
    "    return (np.array(seq_samples), np.array(seq_labels))\n",
    "       \n",
    "window_size = 10\n",
    "X, y = ordered_samples_to_sequence_samples(X_raw, y_raw, window_size)\n",
    "\n",
    "print(X.shape)\n"
   ]
  },
  {
   "cell_type": "markdown",
   "metadata": {},
   "source": [
    "Next we use the `train_test_split` function to divide into train and test datasets."
   ]
  },
  {
   "cell_type": "code",
   "execution_count": 4,
   "metadata": {},
   "outputs": [
    {
     "name": "stdout",
     "output_type": "stream",
     "text": [
      "(11227, 10, 14)\n"
     ]
    }
   ],
   "source": [
    "from sklearn.model_selection import train_test_split\n",
    "\n",
    "X_train, X_test, y_train, y_test = train_test_split(X, y, test_size=0.25, random_state=42)\n",
    "\n",
    "print(X_train.shape)\n"
   ]
  },
  {
   "cell_type": "code",
   "execution_count": 5,
   "metadata": {},
   "outputs": [
    {
     "name": "stderr",
     "output_type": "stream",
     "text": [
      "/opt/conda/lib/python3.6/site-packages/h5py/__init__.py:36: FutureWarning: Conversion of the second argument of issubdtype from `float` to `np.floating` is deprecated. In future, it will be treated as `np.float64 == np.dtype(float).type`.\n",
      "  from ._conv import register_converters as _register_converters\n",
      "Using TensorFlow backend.\n"
     ]
    },
    {
     "name": "stdout",
     "output_type": "stream",
     "text": [
      "WARNING:tensorflow:From /opt/conda/lib/python3.6/site-packages/keras/backend/tensorflow_backend.py:1247: calling reduce_sum (from tensorflow.python.ops.math_ops) with keep_dims is deprecated and will be removed in a future version.\n",
      "Instructions for updating:\n",
      "keep_dims is deprecated, use keepdims instead\n",
      "WARNING:tensorflow:From /opt/conda/lib/python3.6/site-packages/keras/backend/tensorflow_backend.py:1349: calling reduce_mean (from tensorflow.python.ops.math_ops) with keep_dims is deprecated and will be removed in a future version.\n",
      "Instructions for updating:\n",
      "keep_dims is deprecated, use keepdims instead\n",
      "_________________________________________________________________\n",
      "Layer (type)                 Output Shape              Param #   \n",
      "=================================================================\n",
      "gru_1 (GRU)                  (None, 196)               124068    \n",
      "_________________________________________________________________\n",
      "dense_1 (Dense)              (None, 1)                 197       \n",
      "=================================================================\n",
      "Total params: 124,265\n",
      "Trainable params: 124,265\n",
      "Non-trainable params: 0\n",
      "_________________________________________________________________\n",
      "None\n"
     ]
    }
   ],
   "source": [
    "from keras.models import Sequential\n",
    "from keras.layers import GRU, Dense, Activation, Flatten\n",
    "from keras import optimizers\n",
    "\n",
    "\n",
    "# create and fit the LSTM network\n",
    "model = Sequential()\n",
    "model.add(GRU(196, dropout=0.2, recurrent_dropout=0.2, input_shape=X_train.shape[1:])) # input shape is the 2nd and 3rd dim of data\n",
    "model.add(Dense(1, activation='sigmoid'))\n",
    "\n",
    "# try using different optimizers and different optimizer configs\n",
    "model.compile(loss='binary_crossentropy',\n",
    "              optimizer=optimizers.Adam(lr=0.003), # optimizers.Adam(lr=0.003)\n",
    "              metrics=['accuracy'])\n",
    "print(model.summary())"
   ]
  },
  {
   "cell_type": "code",
   "execution_count": 9,
   "metadata": {},
   "outputs": [
    {
     "name": "stdout",
     "output_type": "stream",
     "text": [
      "Train on 8981 samples, validate on 2246 samples\n",
      "Epoch 1/50\n",
      "8960/8981 [============================>.] - ETA: 0s - loss: 0.3129 - acc: 0.8633Epoch 00001: val_acc improved from -inf to 0.91140, saving model to rnn-weights.hdf5\n",
      "8981/8981 [==============================] - 6s 710us/step - loss: 0.3127 - acc: 0.8635 - val_loss: 0.2198 - val_acc: 0.9114\n",
      "Epoch 2/50\n",
      "8928/8981 [============================>.] - ETA: 0s - loss: 0.3129 - acc: 0.8649Epoch 00002: val_acc improved from 0.91140 to 0.92609, saving model to rnn-weights.hdf5\n",
      "8981/8981 [==============================] - 6s 704us/step - loss: 0.3131 - acc: 0.8648 - val_loss: 0.2058 - val_acc: 0.9261\n",
      "Epoch 3/50\n",
      "8960/8981 [============================>.] - ETA: 0s - loss: 0.3064 - acc: 0.8684Epoch 00003: val_acc improved from 0.92609 to 0.93500, saving model to rnn-weights.hdf5\n",
      "8981/8981 [==============================] - 6s 705us/step - loss: 0.3063 - acc: 0.8684 - val_loss: 0.1902 - val_acc: 0.9350\n",
      "Epoch 4/50\n",
      "8928/8981 [============================>.] - ETA: 0s - loss: 0.2968 - acc: 0.8765Epoch 00004: val_acc did not improve\n",
      "8981/8981 [==============================] - 8s 848us/step - loss: 0.2967 - acc: 0.8766 - val_loss: 0.1911 - val_acc: 0.9337\n",
      "Epoch 5/50\n",
      "8928/8981 [============================>.] - ETA: 0s - loss: 0.3010 - acc: 0.8732Epoch 00005: val_acc did not improve\n",
      "8981/8981 [==============================] - 8s 860us/step - loss: 0.3004 - acc: 0.8737 - val_loss: 0.1837 - val_acc: 0.9305\n",
      "Epoch 6/50\n",
      "8960/8981 [============================>.] - ETA: 0s - loss: 0.2928 - acc: 0.8732Epoch 00006: val_acc improved from 0.93500 to 0.93722, saving model to rnn-weights.hdf5\n",
      "8981/8981 [==============================] - 7s 800us/step - loss: 0.2927 - acc: 0.8733 - val_loss: 0.1680 - val_acc: 0.9372\n",
      "Epoch 7/50\n",
      "8960/8981 [============================>.] - ETA: 0s - loss: 0.2902 - acc: 0.8756Epoch 00007: val_acc did not improve\n",
      "8981/8981 [==============================] - 7s 753us/step - loss: 0.2903 - acc: 0.8755 - val_loss: 0.2041 - val_acc: 0.9248\n",
      "Epoch 8/50\n",
      "8896/8981 [============================>.] - ETA: 0s - loss: 0.2781 - acc: 0.8834Epoch 00008: val_acc did not improve\n",
      "8981/8981 [==============================] - 7s 731us/step - loss: 0.2780 - acc: 0.8834 - val_loss: 0.1691 - val_acc: 0.9354\n",
      "Epoch 9/50\n",
      "8928/8981 [============================>.] - ETA: 0s - loss: 0.2802 - acc: 0.8807Epoch 00009: val_acc improved from 0.93722 to 0.93811, saving model to rnn-weights.hdf5\n",
      "8981/8981 [==============================] - 7s 747us/step - loss: 0.2805 - acc: 0.8807 - val_loss: 0.1683 - val_acc: 0.9381\n",
      "Epoch 10/50\n",
      "8896/8981 [============================>.] - ETA: 0s - loss: 0.2775 - acc: 0.8805Epoch 00010: val_acc did not improve\n",
      "8981/8981 [==============================] - 7s 758us/step - loss: 0.2773 - acc: 0.8805 - val_loss: 0.1705 - val_acc: 0.9363\n",
      "Epoch 11/50\n",
      "8960/8981 [============================>.] - ETA: 0s - loss: 0.2639 - acc: 0.8853Epoch 00011: val_acc improved from 0.93811 to 0.94568, saving model to rnn-weights.hdf5\n",
      "8981/8981 [==============================] - 7s 727us/step - loss: 0.2644 - acc: 0.8849 - val_loss: 0.1597 - val_acc: 0.9457\n",
      "Epoch 12/50\n",
      "8960/8981 [============================>.] - ETA: 0s - loss: 0.2822 - acc: 0.8810Epoch 00012: val_acc did not improve\n",
      "8981/8981 [==============================] - 7s 796us/step - loss: 0.2825 - acc: 0.8809 - val_loss: 0.1537 - val_acc: 0.9435\n",
      "Epoch 13/50\n",
      "8928/8981 [============================>.] - ETA: 0s - loss: 0.2741 - acc: 0.8833Epoch 00013: val_acc did not improve\n",
      "8981/8981 [==============================] - 7s 767us/step - loss: 0.2741 - acc: 0.8832 - val_loss: 0.1541 - val_acc: 0.9457\n",
      "Epoch 14/50\n",
      "8896/8981 [============================>.] - ETA: 0s - loss: 0.2624 - acc: 0.8884Epoch 00014: val_acc improved from 0.94568 to 0.94702, saving model to rnn-weights.hdf5\n",
      "8981/8981 [==============================] - 7s 727us/step - loss: 0.2620 - acc: 0.8888 - val_loss: 0.1540 - val_acc: 0.9470\n",
      "Epoch 15/50\n",
      "8960/8981 [============================>.] - ETA: 0s - loss: 0.2553 - acc: 0.8979Epoch 00015: val_acc did not improve\n",
      "8981/8981 [==============================] - 7s 747us/step - loss: 0.2555 - acc: 0.8977 - val_loss: 0.1601 - val_acc: 0.9457\n",
      "Epoch 16/50\n",
      "8960/8981 [============================>.] - ETA: 0s - loss: 0.2567 - acc: 0.8935Epoch 00016: val_acc did not improve\n",
      "8981/8981 [==============================] - 7s 728us/step - loss: 0.2564 - acc: 0.8937 - val_loss: 0.1603 - val_acc: 0.9421\n",
      "Epoch 17/50\n",
      "8896/8981 [============================>.] - ETA: 0s - loss: 0.2674 - acc: 0.8855Epoch 00017: val_acc did not improve\n",
      "8981/8981 [==============================] - 7s 829us/step - loss: 0.2672 - acc: 0.8855 - val_loss: 0.1533 - val_acc: 0.9457\n"
     ]
    }
   ],
   "source": [
    "from keras.callbacks import ModelCheckpoint, EarlyStopping\n",
    "\n",
    "# checkpoint\n",
    "filepath=\"rnn-weights.hdf5\" # \"weights-{epoch:02d}-{val_acc:.2f}.hdf5\"\n",
    "checkpoint = ModelCheckpoint(filepath, monitor='val_acc', verbose=1, save_best_only=True, mode='max')\n",
    "\n",
    "# early stopping\n",
    "early_stop = EarlyStopping(monitor='val_acc', min_delta=0, patience=3, verbose=0, mode='auto')\n",
    "\n",
    "# train the model\n",
    "history = model.fit(X_train, \n",
    "                    y_train, \n",
    "                    validation_split=0.2, \n",
    "                    epochs=50, \n",
    "                    batch_size=32, \n",
    "                    verbose=1, \n",
    "                    callbacks=[checkpoint, early_stop])"
   ]
  },
  {
   "cell_type": "code",
   "execution_count": 12,
   "metadata": {},
   "outputs": [
    {
     "data": {
      "image/png": "[encoded data removed]",
      "text/plain": [
       "<matplotlib.figure.Figure at 0x7f010a9f5eb8>"
      ]
     },
     "metadata": {},
     "output_type": "display_data"
    }
   ],
   "source": [
    "%matplotlib inline\n",
    "import plot_util as plots\n",
    "\n",
    "plots.plot_history(history)"
   ]
  },
  {
   "cell_type": "code",
   "execution_count": 13,
   "metadata": {},
   "outputs": [
    {
     "name": "stdout",
     "output_type": "stream",
     "text": [
      "3743/3743 [==============================] - 1s 217us/step\n",
      "Test score: 0.14735308413936465\n",
      "Test accuracy: 0.9503072401975967\n"
     ]
    }
   ],
   "source": [
    "score, acc = model.evaluate(X_test, y_test,\n",
    "                            batch_size=32)\n",
    "print('Test score:', score)\n",
    "print('Test accuracy:', acc)"
   ]
  },
  {
   "cell_type": "code",
   "execution_count": null,
   "metadata": {},
   "outputs": [],
   "source": [
    "TODO: setup callbacks - https://keras.io/callbacks/"
   ]
  }
 ],
 "metadata": {
  "kernelspec": {
   "display_name": "Python 3",
   "language": "python",
   "name": "python3"
  },
  "language_info": {
   "codemirror_mode": {
    "name": "ipython",
    "version": 3
   },
   "file_extension": ".py",
   "mimetype": "text/x-python",
   "name": "python",
   "nbconvert_exporter": "python",
   "pygments_lexer": "ipython3",
   "version": "3.6.3"
  }
 },
 "nbformat": 4,
 "nbformat_minor": 2
}
